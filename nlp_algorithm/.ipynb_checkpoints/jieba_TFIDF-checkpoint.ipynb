{
 "cells": [
  {
   "cell_type": "code",
   "execution_count": 2,
   "metadata": {},
   "outputs": [],
   "source": [
    "import jieba\n",
    "import jieba.posseg\n",
    "import jieba.analyse\n",
    "from math import log"
   ]
  },
  {
   "cell_type": "code",
   "execution_count": 162,
   "metadata": {},
   "outputs": [],
   "source": [
    "DAG = {0: [0], 1: [1,2,4], 2: [2], 3: [3,4], 4: [4], 5: [5]}\n",
    "route = {}\n",
    "sentence = '去北京大学玩'"
   ]
  },
  {
   "cell_type": "code",
   "execution_count": 168,
   "metadata": {},
   "outputs": [],
   "source": [
    "def calc(sentence, DAG, route):\n",
    "    N = len(sentence)\n",
    "    # 初始化末尾为0\n",
    "    route[N] = (0, 0)\n",
    "    logtotal = log(self.total)\n",
    "    # 从后到前计算\n",
    "    for idx in xrange(N - 1, -1, -1):\n",
    "        route[idx] = max((log(self.FREQ.get(sentence[idx:x + 1]) or 1) - logtotal + route[x + 1][0], x) for x in DAG[idx])\n",
    "    return route"
   ]
  },
  {
   "cell_type": "code",
   "execution_count": 3,
   "metadata": {},
   "outputs": [],
   "source": [
    "s = '给定待分词的句子, 使用正则获取连续的 中文字符和英文字符, 切分成 短语列表, 对每个短语使用DAG(查字典)和动态规划, 得到最大概率路径, 对DAG中那些没有在字典中查到的字, 组合成一个新的片段短语, 使用HMM模型进行分词, 也就是作者说的识别新词, 即识别字典外的新词.'"
   ]
  },
  {
   "cell_type": "code",
   "execution_count": 5,
   "metadata": {},
   "outputs": [
    {
     "name": "stdout",
     "output_type": "stream",
     "text": [
      "['给定', '待', '分词', '的', '句子', ',', ' ', '使用', '正则', '获取', '连续', '的', ' ', '中文', '字符', '和', '英文', '字符', ',', ' ', '切', '分成', ' ', '短语', '列表', ',', ' ', '对', '每个', '短语', '使用', 'DAG', '(', '查字典', ')', '和', '动态', '规划', ',', ' ', '得到', '最大', '概率', '路径', ',', ' ', '对', 'DAG', '中', '那些', '没有', '在', '字典', '中查', '到', '的', '字', ',', ' ', '组合成', '一个', '新', '的', '片段', '短语', ',', ' ', '使用', 'HMM', '模型', '进行', '分词', ',', ' ', '也', '就是', '作者', '说', '的', '识别', '新词', ',', ' ', '即', '识别', '字典', '外', '的', '新词', '.']\n"
     ]
    }
   ],
   "source": [
    "print(jieba.lcut(s))"
   ]
  },
  {
   "cell_type": "code",
   "execution_count": 6,
   "metadata": {},
   "outputs": [
    {
     "data": {
      "text/plain": [
       "['短语', 'DAG', '分词', '新词', '字典']"
      ]
     },
     "execution_count": 6,
     "metadata": {},
     "output_type": "execute_result"
    }
   ],
   "source": [
    "jieba.analyse.extract_tags(s, 5)"
   ]
  },
  {
   "cell_type": "code",
   "execution_count": null,
   "metadata": {},
   "outputs": [],
   "source": []
  }
 ],
 "metadata": {
  "kernelspec": {
   "display_name": "Python 3",
   "language": "python",
   "name": "python3"
  },
  "language_info": {
   "codemirror_mode": {
    "name": "ipython",
    "version": 3
   },
   "file_extension": ".py",
   "mimetype": "text/x-python",
   "name": "python",
   "nbconvert_exporter": "python",
   "pygments_lexer": "ipython3",
   "version": "3.6.5"
  }
 },
 "nbformat": 4,
 "nbformat_minor": 2
}
